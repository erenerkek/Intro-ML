{
 "cells": [
  {
   "cell_type": "markdown",
   "id": "5a7f34db-37d6-493d-a4e1-9ef69e6f9af3",
   "metadata": {
    "scrolled": true
   },
   "source": [
    "print('hello')"
   ]
  },
  {
   "cell_type": "code",
   "execution_count": 4,
   "id": "2741f3ed-a295-416b-b146-eadc5d0b88af",
   "metadata": {
    "scrolled": true
   },
   "outputs": [
    {
     "name": "stdout",
     "output_type": "stream",
     "text": [
      "[1 2 3]\n",
      "Vector: [ 1  2  3  4  5  6  7  8  9 10 11 12 13 14 15]\n",
      "two dimensional array:  [[ 1  2  3  4  5]\n",
      " [ 6  7  8  9 10]\n",
      " [11 12 13 14 15]]\n"
     ]
    }
   ],
   "source": [
    "import numpy as np\n",
    "array = np.array([1,2,3])\n",
    "print(array)\n",
    "array.shape\n",
    "#turning vector to two dimensional array\n",
    "array2 = np.array([1,2,3,4,5,6,7,8,9,10,11,12,13,14,15])\n",
    "print('Vector:', array2)\n",
    "a = array2.reshape(3,5)\n",
    "print('two dimensional array: ',a)\n",
    "#a = array2.reshape(4,5)\n",
    "#a = array2.reshape(5,2)\n",
    "#print('three dimensional array: ',a)\n"
   ]
  },
  {
   "cell_type": "raw",
   "id": "edebd2cb-e947-4db7-8249-c5ace23ff5fa",
   "metadata": {},
   "source": [
    "Yukarida gordugumuz gibi eger bolunebiliyorsa boluyor ama daha kucuk ve daha az olmasina ragmen bolemiyor"
   ]
  },
  {
   "cell_type": "code",
   "execution_count": 5,
   "id": "a36c6fde-cec9-4d9c-b66b-25873fcd65ce",
   "metadata": {},
   "outputs": [
    {
     "name": "stdout",
     "output_type": "stream",
     "text": [
      "shape:  (3, 5)\n",
      "dimension:  2\n"
     ]
    },
    {
     "ename": "AttributeError",
     "evalue": "'numpy.ndarray' object has no attribute 'type'",
     "output_type": "error",
     "traceback": [
      "\u001b[1;31m---------------------------------------------------------------------------\u001b[0m",
      "\u001b[1;31mAttributeError\u001b[0m                            Traceback (most recent call last)",
      "Cell \u001b[1;32mIn[5], line 3\u001b[0m\n\u001b[0;32m      1\u001b[0m \u001b[38;5;28mprint\u001b[39m(\u001b[38;5;124m'\u001b[39m\u001b[38;5;124mshape: \u001b[39m\u001b[38;5;124m'\u001b[39m, a\u001b[38;5;241m.\u001b[39mshape)\u001b[38;5;66;03m# 3,5\u001b[39;00m\n\u001b[0;32m      2\u001b[0m \u001b[38;5;28mprint\u001b[39m(\u001b[38;5;124m'\u001b[39m\u001b[38;5;124mdimension: \u001b[39m\u001b[38;5;124m'\u001b[39m, a\u001b[38;5;241m.\u001b[39mndim) \u001b[38;5;66;03m#looking for dimension of array dimension: 2\u001b[39;00m\n\u001b[1;32m----> 3\u001b[0m \u001b[38;5;28mprint\u001b[39m(\u001b[38;5;124m\"\u001b[39m\u001b[38;5;124mdata type: \u001b[39m\u001b[38;5;124m\"\u001b[39m, a\u001b[38;5;241m.\u001b[39mtype\u001b[38;5;241m.\u001b[39mname)\u001b[38;5;66;03m#data type: int32 data tipini bilmiyorsan kullanabilirsin\u001b[39;00m\n\u001b[0;32m      4\u001b[0m \u001b[38;5;28mprint\u001b[39m(\u001b[38;5;124m\"\u001b[39m\u001b[38;5;124msize: \u001b[39m\u001b[38;5;124m\"\u001b[39m, a\u001b[38;5;241m.\u001b[39msize)\u001b[38;5;66;03m#dizinin boyutunu gosterir bizim ornegimiz icin bu 15tir\u001b[39;00m\n\u001b[0;32m      5\u001b[0m \u001b[38;5;28mprint\u001b[39m(\u001b[38;5;124m\"\u001b[39m\u001b[38;5;124mtype: \u001b[39m\u001b[38;5;124m\"\u001b[39m, \u001b[38;5;28mtype\u001b[39m(a))\n",
      "\u001b[1;31mAttributeError\u001b[0m: 'numpy.ndarray' object has no attribute 'type'"
     ]
    }
   ],
   "source": [
    "print('shape: ', a.shape)# 3,5\n",
    "print('dimension: ', a.ndim) #looking for dimension of array dimension: 2\n",
    "print(\"data type: \", a.type.name)#data type: int32 data tipini bilmiyorsan kullanabilirsin\n",
    "print(\"size: \", a.size)#dizinin boyutunu gosterir bizim ornegimiz icin bu 15tir\n",
    "print(\"type: \", type(a)) #type <class \"numpy.ndarray'>\n"
   ]
  },
  {
   "cell_type": "raw",
   "id": "8a7e3cd4-8c44-486c-b4f7-6de7e2432ddb",
   "metadata": {},
   "source": [
    "ayni zamanda basit islemlerde yapabilirsiniz. ama bunun icin numpy kutuphanesi ile array olusturmaniz lazim"
   ]
  },
  {
   "cell_type": "code",
   "execution_count": 6,
   "id": "aa0b7ad2-e134-4cb3-b0be-d25e11bba57f",
   "metadata": {},
   "outputs": [
    {
     "name": "stdout",
     "output_type": "stream",
     "text": [
      "[5 7 9]\n",
      "[-3 -3 -3]\n",
      "[1 4 9]\n"
     ]
    }
   ],
   "source": [
    "#numpy basic operations\n",
    "a= np.array([1,2,3])\n",
    "b= np.array([4,5,6])\n",
    "\n",
    "print(a+b) #[5 7 9]\n",
    "print(a-b) #{-3 -3 -3}\n",
    "print(a**2) #[1 4 9]"
   ]
  },
  {
   "cell_type": "raw",
   "id": "b9ba2bfe-35b6-458d-a3ac-e93c20f215e7",
   "metadata": {},
   "source": [
    "numpy dizileri hafizada deger olarak kaydedilmez bosluk olarak kaydedilir. bu yuzden bir indeks degistimi butun arrayi degistirir"
   ]
  },
  {
   "cell_type": "code",
   "execution_count": 11,
   "id": "0cc355c7-9e8d-43e1-8bd4-eb176a0273bc",
   "metadata": {},
   "outputs": [
    {
     "name": "stdout",
     "output_type": "stream",
     "text": [
      "[1 2 3]\n",
      "[1 2 3] [1 2 3] [1 2 3]\n"
     ]
    }
   ],
   "source": [
    "a = np.array([1,2,3])\n",
    "print(a)\n",
    "b=a\n",
    "c=a\n",
    "#b[0]=5\n",
    "print(a,b,c)"
   ]
  },
  {
   "cell_type": "markdown",
   "id": "c0fb7a8e-d127-4579-8465-58b4ef0eceef",
   "metadata": {},
   "source": [
    "mesela bu ornekte biri degistiginde hepsinin degistigini goruyoruz ama hafizada yeni bir bosluk olusturmak istiyorsak copy methodunu kullanmamiz lazim."
   ]
  },
  {
   "cell_type": "code",
   "execution_count": 13,
   "id": "afa64edd-1f65-4871-af30-ad2fd53683d4",
   "metadata": {},
   "outputs": [
    {
     "name": "stdout",
     "output_type": "stream",
     "text": [
      "[1 2 3]\n"
     ]
    }
   ],
   "source": [
    "d = a.copy()\n",
    "print(d)"
   ]
  },
  {
   "cell_type": "raw",
   "id": "c6c91a12-33a9-48b6-acd3-3d7d1a65c28c",
   "metadata": {},
   "source": [
    "numpy ile dizilerde istedigimiz indexe veya indexlere de ulasabiliriz,"
   ]
  },
  {
   "cell_type": "code",
   "execution_count": 14,
   "id": "b98dcfc9-fbd6-41c2-a940-5fd8d565b3e1",
   "metadata": {},
   "outputs": [
    {
     "name": "stdout",
     "output_type": "stream",
     "text": [
      "1\n",
      "[7 6 5 4 3 2 1]\n"
     ]
    }
   ],
   "source": [
    "a = np.array([1,2,3,4,5,6,7])\n",
    "print(a[0])\n",
    "reverse_array = a[::-1]\n",
    "print(reverse_array)"
   ]
  },
  {
   "cell_type": "code",
   "execution_count": 16,
   "id": "894817c1-5592-4231-967a-4e799c59d83c",
   "metadata": {},
   "outputs": [
    {
     "name": "stdout",
     "output_type": "stream",
     "text": [
      "[[ 1  2  3  4  5]\n",
      " [ 6  7  8  9 10]]\n",
      "7\n",
      "[2 7]\n",
      "[ 6  7  8  9 10]\n",
      "[7 8 9]\n",
      "[ 6  7  8  9 10]\n",
      "[ 5 10]\n"
     ]
    }
   ],
   "source": [
    "b = np.array([[1,2,3,4,5], [6,7,8,9,10]])\n",
    "print(b)\n",
    "print(b[1,1])#first row, first column\n",
    "print(b[:,1])#all rows with second column [2 7]\n",
    "print(b[1,:])#second row [6 7 8 9 10]\n",
    "print(b[1,1:4])#second row ; second, third, fourth columns [7,8,9]\n",
    "print(b[-1,:])#last row with all colums [6 7 8 9 10]\n",
    "print(b[:,-1])#last columnm with all rows [5 10 ] "
   ]
  },
  {
   "cell_type": "raw",
   "id": "28a97615-f4c0-436d-9c0f-ac38d9b4914a",
   "metadata": {},
   "source": [
    "pandas python ile datalar uzerinde calismaya yarar. databaseden veya dosyadan verileri okumaya ve degistirmeye yarar."
   ]
  },
  {
   "cell_type": "code",
   "execution_count": 41,
   "id": "bf4b5214-15e3-46b0-8ec8-fb4fa8b4d478",
   "metadata": {},
   "outputs": [
    {
     "name": "stdout",
     "output_type": "stream",
     "text": [
      "      name   age     note\n",
      "0      ali  12.0    123.0\n",
      "1     veli  34.0    456.0\n",
      "2  zubeyde  56.0     78.0\n",
      "3    ahmet  78.0  87654.0\n",
      "4    kubra   NaN      NaN\n",
      "5      can  12.0     89.0\n"
     ]
    }
   ],
   "source": [
    "import pandas as pd\n",
    "\n",
    "dictionary = {'name':['ali','veli','zubeyde','ahmet','kubra','can'],\n",
    "    'age':[12,34,56,78,None,12],\n",
    "    'note':[123,456,78,87654,None,89]\n",
    "}\n",
    "dataframe1 = pd.DataFrame(dictionary)\n",
    "print(dataframe1)"
   ]
  },
  {
   "cell_type": "code",
   "execution_count": 42,
   "id": "a19509fc-efb9-4963-9af2-d8aa6a185cc1",
   "metadata": {},
   "outputs": [
    {
     "name": "stdout",
     "output_type": "stream",
     "text": [
      "      name   age     note\n",
      "0      ali  12.0    123.0\n",
      "1     veli  34.0    456.0\n",
      "2  zubeyde  56.0     78.0\n",
      "3    ahmet  78.0  87654.0\n",
      "4    kubra   NaN      NaN\n",
      "Index(['name', 'age', 'note'], dtype='object')\n",
      "<class 'pandas.core.frame.DataFrame'>\n",
      "RangeIndex: 6 entries, 0 to 5\n",
      "Data columns (total 3 columns):\n",
      " #   Column  Non-Null Count  Dtype  \n",
      "---  ------  --------------  -----  \n",
      " 0   name    6 non-null      object \n",
      " 1   age     5 non-null      float64\n",
      " 2   note    5 non-null      float64\n",
      "dtypes: float64(2), object(1)\n",
      "memory usage: 276.0+ bytes\n",
      "None\n",
      "name     object\n",
      "age     float64\n",
      "note    float64\n",
      "dtype: object\n",
      "             age         note\n",
      "count   5.000000      5.00000\n",
      "mean   38.400000  17680.00000\n",
      "std    28.684491  39116.96814\n",
      "min    12.000000     78.00000\n",
      "25%    12.000000     89.00000\n",
      "50%    34.000000    123.00000\n",
      "75%    56.000000    456.00000\n",
      "max    78.000000  87654.00000\n",
      "0        ali\n",
      "1       veli\n",
      "2    zubeyde\n",
      "3      ahmet\n",
      "4      kubra\n",
      "5        can\n",
      "Name: name, dtype: object\n",
      "0    12.0\n",
      "1    34.0\n",
      "2    56.0\n",
      "3    78.0\n",
      "4     NaN\n",
      "5    12.0\n",
      "Name: age, dtype: float64\n",
      "0    12.0\n",
      "1    34.0\n",
      "2    56.0\n",
      "3    78.0\n",
      "Name: age, dtype: float64\n",
      "      name   age     note\n",
      "0      ali  12.0    123.0\n",
      "1     veli  34.0    456.0\n",
      "2  zubeyde  56.0     78.0\n",
      "3    ahmet  78.0  87654.0\n",
      "      name   age     note  yeni_future\n",
      "5      can  12.0     89.0            6\n",
      "4    kubra   NaN      NaN            5\n",
      "3    ahmet  78.0  87654.0            4\n",
      "2  zubeyde  56.0     78.0            3\n",
      "1     veli  34.0    456.0            2\n",
      "0      ali  12.0    123.0            1\n",
      "    age   bool\n",
      "0  12.0   True\n",
      "1  34.0   True\n",
      "2  56.0   True\n",
      "3  78.0   True\n",
      "4   NaN  False\n",
      "5  12.0   True\n",
      "    name   age     note  yeni_future  bool\n",
      "0    ali  12.0    123.0            1  True\n",
      "1   veli  34.0    456.0            2  True\n",
      "3  ahmet  78.0  87654.0            4  True\n"
     ]
    }
   ],
   "source": [
    "#Read the CSV file into a DataFrame\n",
    "#df =pd.read_csv('C:/Users/erene/Desktop/data.csv')\n",
    "\n",
    "#print the contents of the DataFrame\n",
    "#print(df)\n",
    "head = dataframe1.head()\n",
    "print(head)\n",
    "\n",
    "print(dataframe1.columns)\n",
    "print(dataframe1.info())\n",
    "print(dataframe1.dtypes)\n",
    "print(dataframe1.describe())\n",
    "print(dataframe1['name'])\n",
    "print(dataframe1.loc[:, 'age'])\n",
    "dataframe1['yeni_future']=[1,2,3,4,5,6]\n",
    "print(dataframe1.loc[:3,'age'])\n",
    "print(dataframe1.loc[:3,'name':'note'])\n",
    "print(dataframe1.loc[::-1])\n",
    "\n",
    "\n",
    "filtre1 = dataframe1.age>10\n",
    "dataframe1['bool']=filtre1\n",
    "print(dataframe1.loc[:,['age','bool']])\n",
    "\n",
    "filtre2 = dataframe1.note>100\n",
    "filtrelenmis_data2=dataframe1[filtre2&filtre1]\n",
    "print(filtrelenmis_data2)"
   ]
  },
  {
   "cell_type": "code",
   "execution_count": 43,
   "id": "d9ef70ab-5a7d-4e7c-8de0-cf17532d3e5e",
   "metadata": {},
   "outputs": [
    {
     "data": {
      "text/html": [
       "<div>\n",
       "<style scoped>\n",
       "    .dataframe tbody tr th:only-of-type {\n",
       "        vertical-align: middle;\n",
       "    }\n",
       "\n",
       "    .dataframe tbody tr th {\n",
       "        vertical-align: top;\n",
       "    }\n",
       "\n",
       "    .dataframe thead th {\n",
       "        text-align: right;\n",
       "    }\n",
       "</style>\n",
       "<table border=\"1\" class=\"dataframe\">\n",
       "  <thead>\n",
       "    <tr style=\"text-align: right;\">\n",
       "      <th></th>\n",
       "      <th>name</th>\n",
       "      <th>age</th>\n",
       "      <th>note</th>\n",
       "      <th>yeni_future</th>\n",
       "      <th>bool</th>\n",
       "    </tr>\n",
       "  </thead>\n",
       "  <tbody>\n",
       "    <tr>\n",
       "      <th>0</th>\n",
       "      <td>ali</td>\n",
       "      <td>12.0</td>\n",
       "      <td>123.0</td>\n",
       "      <td>1</td>\n",
       "      <td>True</td>\n",
       "    </tr>\n",
       "    <tr>\n",
       "      <th>1</th>\n",
       "      <td>veli</td>\n",
       "      <td>34.0</td>\n",
       "      <td>456.0</td>\n",
       "      <td>2</td>\n",
       "      <td>True</td>\n",
       "    </tr>\n",
       "    <tr>\n",
       "      <th>2</th>\n",
       "      <td>zubeyde</td>\n",
       "      <td>56.0</td>\n",
       "      <td>78.0</td>\n",
       "      <td>3</td>\n",
       "      <td>True</td>\n",
       "    </tr>\n",
       "    <tr>\n",
       "      <th>3</th>\n",
       "      <td>ahmet</td>\n",
       "      <td>78.0</td>\n",
       "      <td>87654.0</td>\n",
       "      <td>4</td>\n",
       "      <td>True</td>\n",
       "    </tr>\n",
       "    <tr>\n",
       "      <th>5</th>\n",
       "      <td>can</td>\n",
       "      <td>12.0</td>\n",
       "      <td>89.0</td>\n",
       "      <td>6</td>\n",
       "      <td>True</td>\n",
       "    </tr>\n",
       "  </tbody>\n",
       "</table>\n",
       "</div>"
      ],
      "text/plain": [
       "      name   age     note  yeni_future  bool\n",
       "0      ali  12.0    123.0            1  True\n",
       "1     veli  34.0    456.0            2  True\n",
       "2  zubeyde  56.0     78.0            3  True\n",
       "3    ahmet  78.0  87654.0            4  True\n",
       "5      can  12.0     89.0            6  True"
      ]
     },
     "execution_count": 43,
     "metadata": {},
     "output_type": "execute_result"
    }
   ],
   "source": [
    "dataframe1.dropna(inplace=True)\n",
    "dataframe1\n"
   ]
  },
  {
   "cell_type": "code",
   "execution_count": 44,
   "id": "0d2eac28-36d3-40c0-bc55-6904f54a554e",
   "metadata": {},
   "outputs": [
    {
     "data": {
      "text/html": [
       "<div>\n",
       "<style scoped>\n",
       "    .dataframe tbody tr th:only-of-type {\n",
       "        vertical-align: middle;\n",
       "    }\n",
       "\n",
       "    .dataframe tbody tr th {\n",
       "        vertical-align: top;\n",
       "    }\n",
       "\n",
       "    .dataframe thead th {\n",
       "        text-align: right;\n",
       "    }\n",
       "</style>\n",
       "<table border=\"1\" class=\"dataframe\">\n",
       "  <thead>\n",
       "    <tr style=\"text-align: right;\">\n",
       "      <th></th>\n",
       "      <th>name</th>\n",
       "      <th>age</th>\n",
       "      <th>note</th>\n",
       "      <th>yeni_future</th>\n",
       "      <th>bool</th>\n",
       "      <th>situation</th>\n",
       "    </tr>\n",
       "  </thead>\n",
       "  <tbody>\n",
       "    <tr>\n",
       "      <th>0</th>\n",
       "      <td>ali</td>\n",
       "      <td>12.0</td>\n",
       "      <td>123.0</td>\n",
       "      <td>1</td>\n",
       "      <td>True</td>\n",
       "      <td>below avarage</td>\n",
       "    </tr>\n",
       "    <tr>\n",
       "      <th>1</th>\n",
       "      <td>veli</td>\n",
       "      <td>34.0</td>\n",
       "      <td>456.0</td>\n",
       "      <td>2</td>\n",
       "      <td>True</td>\n",
       "      <td>below avarage</td>\n",
       "    </tr>\n",
       "    <tr>\n",
       "      <th>2</th>\n",
       "      <td>zubeyde</td>\n",
       "      <td>56.0</td>\n",
       "      <td>78.0</td>\n",
       "      <td>3</td>\n",
       "      <td>True</td>\n",
       "      <td>below avarage</td>\n",
       "    </tr>\n",
       "    <tr>\n",
       "      <th>3</th>\n",
       "      <td>ahmet</td>\n",
       "      <td>78.0</td>\n",
       "      <td>87654.0</td>\n",
       "      <td>4</td>\n",
       "      <td>True</td>\n",
       "      <td>above avarage</td>\n",
       "    </tr>\n",
       "    <tr>\n",
       "      <th>5</th>\n",
       "      <td>can</td>\n",
       "      <td>12.0</td>\n",
       "      <td>89.0</td>\n",
       "      <td>6</td>\n",
       "      <td>True</td>\n",
       "      <td>below avarage</td>\n",
       "    </tr>\n",
       "  </tbody>\n",
       "</table>\n",
       "</div>"
      ],
      "text/plain": [
       "      name   age     note  yeni_future  bool      situation\n",
       "0      ali  12.0    123.0            1  True  below avarage\n",
       "1     veli  34.0    456.0            2  True  below avarage\n",
       "2  zubeyde  56.0     78.0            3  True  below avarage\n",
       "3    ahmet  78.0  87654.0            4  True  above avarage\n",
       "5      can  12.0     89.0            6  True  below avarage"
      ]
     },
     "execution_count": 44,
     "metadata": {},
     "output_type": "execute_result"
    }
   ],
   "source": [
    "dataframe1['situation'] = ['below avarage' if dataframe1.note.mean()>each else 'above avarage' for each in dataframe1.note]\n",
    "dataframe1"
   ]
  },
  {
   "cell_type": "code",
   "execution_count": 46,
   "id": "b908922e-5948-4820-9afb-5e004ad49dd1",
   "metadata": {},
   "outputs": [
    {
     "data": {
      "text/html": [
       "<div>\n",
       "<style scoped>\n",
       "    .dataframe tbody tr th:only-of-type {\n",
       "        vertical-align: middle;\n",
       "    }\n",
       "\n",
       "    .dataframe tbody tr th {\n",
       "        vertical-align: top;\n",
       "    }\n",
       "\n",
       "    .dataframe thead th {\n",
       "        text-align: right;\n",
       "    }\n",
       "</style>\n",
       "<table border=\"1\" class=\"dataframe\">\n",
       "  <thead>\n",
       "    <tr style=\"text-align: right;\">\n",
       "      <th></th>\n",
       "      <th>name</th>\n",
       "      <th>age</th>\n",
       "      <th>note</th>\n",
       "      <th>yeni future</th>\n",
       "      <th>bool</th>\n",
       "      <th>situation</th>\n",
       "      <th>yeni2 future</th>\n",
       "    </tr>\n",
       "  </thead>\n",
       "  <tbody>\n",
       "    <tr>\n",
       "      <th>0</th>\n",
       "      <td>ali</td>\n",
       "      <td>12.0</td>\n",
       "      <td>123.0</td>\n",
       "      <td>1</td>\n",
       "      <td>True</td>\n",
       "      <td>below avarage</td>\n",
       "      <td>1</td>\n",
       "    </tr>\n",
       "    <tr>\n",
       "      <th>1</th>\n",
       "      <td>veli</td>\n",
       "      <td>34.0</td>\n",
       "      <td>456.0</td>\n",
       "      <td>2</td>\n",
       "      <td>True</td>\n",
       "      <td>below avarage</td>\n",
       "      <td>1</td>\n",
       "    </tr>\n",
       "    <tr>\n",
       "      <th>2</th>\n",
       "      <td>zubeyde</td>\n",
       "      <td>56.0</td>\n",
       "      <td>78.0</td>\n",
       "      <td>3</td>\n",
       "      <td>True</td>\n",
       "      <td>below avarage</td>\n",
       "      <td>1</td>\n",
       "    </tr>\n",
       "    <tr>\n",
       "      <th>3</th>\n",
       "      <td>ahmet</td>\n",
       "      <td>78.0</td>\n",
       "      <td>87654.0</td>\n",
       "      <td>4</td>\n",
       "      <td>True</td>\n",
       "      <td>above avarage</td>\n",
       "      <td>1</td>\n",
       "    </tr>\n",
       "    <tr>\n",
       "      <th>5</th>\n",
       "      <td>can</td>\n",
       "      <td>12.0</td>\n",
       "      <td>89.0</td>\n",
       "      <td>6</td>\n",
       "      <td>True</td>\n",
       "      <td>below avarage</td>\n",
       "      <td>1</td>\n",
       "    </tr>\n",
       "  </tbody>\n",
       "</table>\n",
       "</div>"
      ],
      "text/plain": [
       "      name   age     note  yeni future  bool      situation  yeni2 future\n",
       "0      ali  12.0    123.0            1  True  below avarage             1\n",
       "1     veli  34.0    456.0            2  True  below avarage             1\n",
       "2  zubeyde  56.0     78.0            3  True  below avarage             1\n",
       "3    ahmet  78.0  87654.0            4  True  above avarage             1\n",
       "5      can  12.0     89.0            6  True  below avarage             1"
      ]
     },
     "execution_count": 46,
     "metadata": {},
     "output_type": "execute_result"
    }
   ],
   "source": [
    "dataframe1['yeni2_future']=[1,1,1,1,1]\n",
    "dataframe1.columns = [each.split('_')[0]+' '+each.split('_')[1] if len(each.split('_'))>1 else each for each in dataframe1.columns]\n",
    "dataframe1"
   ]
  },
  {
   "cell_type": "code",
   "execution_count": 51,
   "id": "ef31ea37-a987-4aa0-b56c-19a291d00556",
   "metadata": {},
   "outputs": [
    {
     "data": {
      "image/png": "[encoded data removed]",
      "text/plain": [
       "<Figure size 640x480 with 1 Axes>"
      ]
     },
     "metadata": {},
     "output_type": "display_data"
    }
   ],
   "source": [
    "import matplotlib.pyplot as plt\n",
    "import numpy as np\n",
    "\n",
    "#Data\n",
    "data = np.random.randn(1000)\n",
    "\n",
    "#Graph creation\n",
    "plt.hist(data, bins=30)\n",
    "\n",
    "#Determine chart properties\n",
    "plt.title('Histogram')\n",
    "plt.xlabel('Values')\n",
    "plt.ylabel('Frequency')\n",
    "\n",
    "plt.show()\n"
   ]
  },
  {
   "cell_type": "code",
   "execution_count": 52,
   "id": "b4931a28-42a7-415b-abdc-958732b2a148",
   "metadata": {},
   "outputs": [
    {
     "data": {
      "image/png": "[encoded data removed]",
      "text/plain": [
       "<Figure size 640x480 with 1 Axes>"
      ]
     },
     "metadata": {},
     "output_type": "display_data"
    }
   ],
   "source": [
    "import matplotlib.pyplot as plt\n",
    "\n",
    "#Data\n",
    "sizes =[30,25,15,10,5,5]\n",
    "#Graph creation\n",
    "plt.pie(sizes)\n",
    "\n",
    "#Determine chart proporties\n",
    "plt.title('pie chart')\n",
    "\n",
    "#show graph\n",
    "plt.show()"
   ]
  },
  {
   "cell_type": "code",
   "execution_count": null,
   "id": "74f5251f-4350-46a8-b97a-97a6fb1d0d79",
   "metadata": {},
   "outputs": [],
   "source": []
  }
 ],
 "metadata": {
  "kernelspec": {
   "display_name": "Python 3 (ipykernel)",
   "language": "python",
   "name": "python3"
  },
  "language_info": {
   "codemirror_mode": {
    "name": "ipython",
    "version": 3
   },
   "file_extension": ".py",
   "mimetype": "text/x-python",
   "name": "python",
   "nbconvert_exporter": "python",
   "pygments_lexer": "ipython3",
   "version": "3.11.7"
  }
 },
 "nbformat": 4,
 "nbformat_minor": 5
}
